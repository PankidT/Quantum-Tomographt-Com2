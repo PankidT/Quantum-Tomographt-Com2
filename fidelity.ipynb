{
 "cells": [
  {
   "cell_type": "code",
   "execution_count": 15,
   "metadata": {},
   "outputs": [],
   "source": [
    "import numpy as np\n",
    "from numpy import sin, cos, exp, matmul, pi\n",
    "import matplotlib.pyplot as plt\n",
    "from scipy.linalg import sqrtm"
   ]
  },
  {
   "cell_type": "code",
   "execution_count": 27,
   "metadata": {},
   "outputs": [],
   "source": [
    "def rho_cart(x, y, z):\n",
    "    i_mat = np.array([[1, 0], [0, 1]])\n",
    "    x_mat = np.array([[0, 1], [1, 0]])\n",
    "    y_mat = np.array([[0, -1j], [1j, 0]])\n",
    "    z_mat = np.array([[1, 0], [0, -1]])\n",
    "    return 0.5*(i_mat + x_mat*x + y_mat*y + z_mat*z)\n",
    "\n",
    "def rho_sphere(theta, phi):\n",
    "    dum1 = cos(theta/2)**2\n",
    "    dum2 = exp(-1j*phi)*cos(theta/2)*sin(theta/2)\n",
    "    dum3 = exp(1j*phi)*cos(theta/2)*sin(theta/2)\n",
    "    dum4 = sin(theta/2)**2\n",
    "    return np.array([[dum1, dum2], [dum3, dum4]])\n",
    "\n",
    "def fidelity(rho1, rho2):\n",
    "    fidel = sqrtm(matmul(matmul(sqrtm(rho1), rho2), sqrtm(rho1)))\n",
    "    return fidel[0][0] + fidel[1][1] # trace"
   ]
  },
  {
   "cell_type": "code",
   "execution_count": 81,
   "metadata": {},
   "outputs": [],
   "source": [
    "theta = -1; phi = -1\n",
    "real_state = rho_cart(0., 0., 1.)\n",
    "dum_list = []\n",
    "for theta in range(180):\n",
    "    theta +=1\n",
    "    for phi in range(360):\n",
    "        phi +=1\n",
    "        dum_list.append((fidelity(real_state, rho_sphere(theta*(pi/180), phi*(pi/180))), theta, phi))\n"
   ]
  },
  {
   "cell_type": "code",
   "execution_count": 82,
   "metadata": {},
   "outputs": [
    {
     "name": "stdout",
     "output_type": "stream",
     "text": [
      "Fidelity = (0.9999619230641713+0j)\n",
      "Theta = 1\n",
      "Phi = 360\n"
     ]
    }
   ],
   "source": [
    "max_fidel = max(dum_list)\n",
    "print(f'Fidelity = {max_fidel[0]}')\n",
    "print(f'Theta = {max_fidel[1]}')\n",
    "print(f'Phi = {max_fidel[2]}')"
   ]
  },
  {
   "cell_type": "code",
   "execution_count": null,
   "metadata": {},
   "outputs": [],
   "source": []
  }
 ],
 "metadata": {
  "interpreter": {
   "hash": "3be62191ad9fcbc17caeabed876ecfb1844db110ce20b43ff278a90b176ff5cc"
  },
  "kernelspec": {
   "display_name": "Python 3.7.6 64-bit ('base': conda)",
   "language": "python",
   "name": "python3"
  },
  "language_info": {
   "codemirror_mode": {
    "name": "ipython",
    "version": 3
   },
   "file_extension": ".py",
   "mimetype": "text/x-python",
   "name": "python",
   "nbconvert_exporter": "python",
   "pygments_lexer": "ipython3",
   "version": "3.7.6"
  },
  "orig_nbformat": 4
 },
 "nbformat": 4,
 "nbformat_minor": 2
}
